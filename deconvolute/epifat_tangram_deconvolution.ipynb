{
 "cells": [
  {
   "cell_type": "code",
   "execution_count": 1,
   "id": "d194542e",
   "metadata": {},
   "outputs": [
    {
     "data": {
      "text/plain": [
       "'\\nThis script is used to perform deconvolution with tangram\\n\\nauthors: Roy Oelen\\n'"
      ]
     },
     "execution_count": 1,
     "metadata": {},
     "output_type": "execute_result"
    }
   ],
   "source": [
    "\"\"\"\n",
    "This script is used to perform deconvolution with tangram\n",
    "\n",
    "authors: Roy Oelen\n",
    "\"\"\""
   ]
  },
  {
   "cell_type": "code",
   "execution_count": 2,
   "id": "71e941b1",
   "metadata": {},
   "outputs": [
    {
     "name": "stderr",
     "output_type": "stream",
     "text": [
      "/home/umcg-roelen/miniconda3/envs/tangram-env/lib/python3.8/site-packages/tqdm/auto.py:21: TqdmWarning: IProgress not found. Please update jupyter and ipywidgets. See https://ipywidgets.readthedocs.io/en/stable/user_install.html\n",
      "  from .autonotebook import tqdm as notebook_tqdm\n"
     ]
    },
    {
     "data": {
      "text/plain": [
       "'1.0.4'"
      ]
     },
     "execution_count": 2,
     "metadata": {},
     "output_type": "execute_result"
    }
   ],
   "source": [
    "# load the libraries\n",
    "import os, sys\n",
    "import numpy as np\n",
    "import pandas as pd\n",
    "import matplotlib.pyplot as plt\n",
    "import seaborn as sns\n",
    "import scanpy as sc\n",
    "import scipy\n",
    "import torch\n",
    "import tangram as tg\n",
    "import pickle\n",
    "\n",
    "tg.__version__"
   ]
  },
  {
   "cell_type": "code",
   "execution_count": 3,
   "id": "6f1c3eb3",
   "metadata": {},
   "outputs": [],
   "source": [
    "# objects\n",
    "class MappingResult:\n",
    "    \"\"\"\n",
    "    Object to the results of Tangram mapping\n",
    "    \"\"\"\n",
    "    def __init__(self, spatial_object, single_cell_object, mapping):\n",
    "        \"\"\"constructor\n",
    "        \n",
    "        Parameters\n",
    "        ----------\n",
    "        spatial_object : AnnData\n",
    "            AnnData scanpy object of ST\n",
    "        single_cell_object : AnnData\n",
    "            AnnData scanpy object of SC\n",
    "        mapping : AnnData\n",
    "            AnnData resulting file\n",
    "        \n",
    "        \"\"\"\n",
    "        self.__spatial_object = spatial_object\n",
    "        self.__single_cell_object = single_cell_object\n",
    "        self.__mapping = mapping\n",
    "    \n",
    "    def get_spatial_object(self):\n",
    "        \"\"\"get ST object used for the mapping\n",
    "        \n",
    "        \n",
    "        Returns\n",
    "        -------\n",
    "        result\n",
    "           The spatial object used for the mapping \n",
    "        \"\"\"\n",
    "        return self.__spatial_object\n",
    "    \n",
    "    def get_single_cell_object(self):\n",
    "        \"\"\"get SC object used for the mapping\n",
    "        \n",
    "        \n",
    "        Returns\n",
    "        -------\n",
    "        result\n",
    "           The single cell object used for the mapping \n",
    "        \"\"\"\n",
    "        return self.__single_cell_object\n",
    "    \n",
    "    def get_mapping(self):\n",
    "        \"\"\"get the mapping result object\n",
    "        \n",
    "        \n",
    "        Returns\n",
    "        -------\n",
    "        result\n",
    "          The object created from doing the Tangram mapping\n",
    "        \"\"\"\n",
    "        return self.__mapping\n"
   ]
  },
  {
   "cell_type": "code",
   "execution_count": 4,
   "id": "1abf1de0",
   "metadata": {},
   "outputs": [],
   "source": [
    "def perform_tangram_mapping(slices_dict, reference, n_genes=500, mode='cells'):\n",
    "    \"\"\"perform tangram mapping on a dictionary\n",
    "        \n",
    "    Parameters\n",
    "    ----------\n",
    "    slices_dict : dict\n",
    "        the dictionary of ST objects to do the mapping for\n",
    "    reference : AnnData\n",
    "        the reference AnnData SC object to use for mapping\n",
    "    n_genes : int\n",
    "        the top number of most variable genes to use for the mapping\n",
    "    mode : str\n",
    "        the mode to use\n",
    "        \n",
    "    Returns\n",
    "    -------\n",
    "    result\n",
    "       a pandas dataframe instance of the expression data for the given cell type, or None if the cell type supplied doesn't exist\n",
    "    \"\"\"\n",
    "    # we will store the results in a dictionary\n",
    "    mapped_slices = {}\n",
    "    # check each slice\n",
    "    for slice_name,slice_object in slices_dict.items():\n",
    "        # calculate variable genes\n",
    "        variable_table = sc.pp.highly_variable_genes(slice_object, inplace = False, flavor='seurat_v3', n_top_genes=n_genes)\n",
    "        # select the markers\n",
    "        markers = list(variable_table[(variable_table[\"highly_variable\"] == True) & (variable_table[\"highly_variable_rank\"] <= n_genes)].index)\n",
    "        # get overlapping markers\n",
    "        tg.pp_adatas(reference, slice_object, genes=markers)\n",
    "        # do mapping\n",
    "        ad_map = tg.map_cells_to_space(\n",
    "            adata_sc=reference,\n",
    "            adata_sp=slice_objects_reloaded['V10A20-016_D1'],\n",
    "#             device='cpu',\n",
    "            device='cuda:0',\n",
    "            mode=mode\n",
    "        )\n",
    "        tg.project_cell_annotations(ad_map, ad_sp, annotation='cell_type')\n",
    "        # create an object to store the result\n",
    "        mapping_result = MappingResult(slice_object, reference, ad_map)\n",
    "        # put in a dictionary\n",
    "        mapped_slices[slice_name] = mapping_result\n"
   ]
  },
  {
   "cell_type": "code",
   "execution_count": 5,
   "id": "a1ac7e37",
   "metadata": {},
   "outputs": [],
   "source": [
    "# load the ST data\n",
    "slice_objects_reloaded = None\n",
    "with open(''.join(['/groups/umcg-franke-scrna/tmp02/projects/epifat/ongoing/seurat_preprocess_samples/objects/', 'spaceranger.20230823.pickle']), 'rb') as f:\n",
    "    slice_objects_reloaded = pickle.load(f)"
   ]
  },
  {
   "cell_type": "code",
   "execution_count": 6,
   "id": "d34d24f8",
   "metadata": {},
   "outputs": [],
   "source": [
    "# read the reference\n",
    "reference  = sc.read_h5ad('/groups/umcg-franke-scrna/tmp02/external_datasets/hca/Global_lognormalised.h5ad')"
   ]
  },
  {
   "cell_type": "code",
   "execution_count": 7,
   "id": "f00acaff",
   "metadata": {},
   "outputs": [],
   "source": [
    "variable_table = sc.pp.highly_variable_genes(slice_objects_reloaded['V10A20-016_D1'], inplace = False, flavor='seurat_v3', n_top_genes=500)\n",
    "markers = list(variable_table[(variable_table[\"highly_variable\"] == True) & (variable_table[\"highly_variable_rank\"] <= 100)].index)"
   ]
  },
  {
   "cell_type": "code",
   "execution_count": 8,
   "id": "c7a9091a",
   "metadata": {},
   "outputs": [
    {
     "name": "stderr",
     "output_type": "stream",
     "text": [
      "INFO:root:101 training genes are saved in `uns``training_genes` of both single cell and spatial Anndatas.\n",
      "INFO:root:12743 overlapped genes are saved in `uns``overlap_genes` of both single cell and spatial Anndatas.\n",
      "INFO:root:uniform based density prior is calculated and saved in `obs``uniform_density` of the spatial Anndata.\n",
      "INFO:root:rna count based density prior is calculated and saved in `obs``rna_count_based_density` of the spatial Anndata.\n"
     ]
    }
   ],
   "source": [
    "tg.pp_adatas(reference, slice_objects_reloaded['V10A20-016_D1'], genes=markers)\n",
    "# tg.pp_adatas(reference, slice_objects_reloaded['V10A20-016_D1'])"
   ]
  },
  {
   "cell_type": "code",
   "execution_count": 9,
   "id": "2e30e57d",
   "metadata": {},
   "outputs": [
    {
     "ename": "ValueError",
     "evalue": "A cluster_label must be specified if mode is 'clusters'.",
     "output_type": "error",
     "traceback": [
      "\u001b[0;31m---------------------------------------------------------------------------\u001b[0m",
      "\u001b[0;31mValueError\u001b[0m                                Traceback (most recent call last)",
      "Cell \u001b[0;32mIn[9], line 1\u001b[0m\n\u001b[0;32m----> 1\u001b[0m ad_map \u001b[38;5;241m=\u001b[39m \u001b[43mtg\u001b[49m\u001b[38;5;241;43m.\u001b[39;49m\u001b[43mmap_cells_to_space\u001b[49m\u001b[43m(\u001b[49m\n\u001b[1;32m      2\u001b[0m \u001b[43m    \u001b[49m\u001b[43madata_sc\u001b[49m\u001b[38;5;241;43m=\u001b[39;49m\u001b[43mreference\u001b[49m\u001b[43m,\u001b[49m\n\u001b[1;32m      3\u001b[0m \u001b[43m    \u001b[49m\u001b[43madata_sp\u001b[49m\u001b[38;5;241;43m=\u001b[39;49m\u001b[43mslice_objects_reloaded\u001b[49m\u001b[43m[\u001b[49m\u001b[38;5;124;43m'\u001b[39;49m\u001b[38;5;124;43mV10A20-016_D1\u001b[39;49m\u001b[38;5;124;43m'\u001b[39;49m\u001b[43m]\u001b[49m\u001b[43m,\u001b[49m\n\u001b[1;32m      4\u001b[0m \u001b[38;5;66;43;03m#     device='cpu',\u001b[39;49;00m\n\u001b[1;32m      5\u001b[0m \u001b[43m    \u001b[49m\u001b[43mdevice\u001b[49m\u001b[38;5;241;43m=\u001b[39;49m\u001b[38;5;124;43m'\u001b[39;49m\u001b[38;5;124;43mcuda:0\u001b[39;49m\u001b[38;5;124;43m'\u001b[39;49m\u001b[43m,\u001b[49m\n\u001b[1;32m      6\u001b[0m \u001b[43m    \u001b[49m\u001b[43mmode\u001b[49m\u001b[38;5;241;43m=\u001b[39;49m\u001b[38;5;124;43m'\u001b[39;49m\u001b[38;5;124;43mclusters\u001b[39;49m\u001b[38;5;124;43m'\u001b[39;49m\n\u001b[1;32m      7\u001b[0m \u001b[43m)\u001b[49m\n",
      "File \u001b[0;32m~/miniconda3/envs/tangram-env/lib/python3.8/site-packages/tangram/mapping_utils.py:203\u001b[0m, in \u001b[0;36mmap_cells_to_space\u001b[0;34m(adata_sc, adata_sp, cv_train_genes, cluster_label, mode, device, learning_rate, num_epochs, scale, lambda_d, lambda_g1, lambda_g2, lambda_r, lambda_count, lambda_f_reg, target_count, random_state, verbose, density_prior)\u001b[0m\n\u001b[1;32m    200\u001b[0m     \u001b[38;5;28;01mraise\u001b[39;00m \u001b[38;5;167;01mValueError\u001b[39;00m(\u001b[38;5;124m'\u001b[39m\u001b[38;5;124mArgument \u001b[39m\u001b[38;5;124m\"\u001b[39m\u001b[38;5;124mmode\u001b[39m\u001b[38;5;124m\"\u001b[39m\u001b[38;5;124m must be \u001b[39m\u001b[38;5;124m\"\u001b[39m\u001b[38;5;124mcells\u001b[39m\u001b[38;5;124m\"\u001b[39m\u001b[38;5;124m, \u001b[39m\u001b[38;5;124m\"\u001b[39m\u001b[38;5;124mclusters\u001b[39m\u001b[38;5;124m\"\u001b[39m\u001b[38;5;124m or \u001b[39m\u001b[38;5;124m\"\u001b[39m\u001b[38;5;124mconstrained\u001b[39m\u001b[38;5;124m'\u001b[39m)\n\u001b[1;32m    202\u001b[0m \u001b[38;5;28;01mif\u001b[39;00m mode \u001b[38;5;241m==\u001b[39m \u001b[38;5;124m\"\u001b[39m\u001b[38;5;124mclusters\u001b[39m\u001b[38;5;124m\"\u001b[39m \u001b[38;5;129;01mand\u001b[39;00m cluster_label \u001b[38;5;129;01mis\u001b[39;00m \u001b[38;5;28;01mNone\u001b[39;00m:\n\u001b[0;32m--> 203\u001b[0m     \u001b[38;5;28;01mraise\u001b[39;00m \u001b[38;5;167;01mValueError\u001b[39;00m(\u001b[38;5;124m\"\u001b[39m\u001b[38;5;124mA cluster_label must be specified if mode is \u001b[39m\u001b[38;5;124m'\u001b[39m\u001b[38;5;124mclusters\u001b[39m\u001b[38;5;124m'\u001b[39m\u001b[38;5;124m.\u001b[39m\u001b[38;5;124m\"\u001b[39m)\n\u001b[1;32m    205\u001b[0m \u001b[38;5;28;01mif\u001b[39;00m mode \u001b[38;5;241m==\u001b[39m \u001b[38;5;124m\"\u001b[39m\u001b[38;5;124mconstrained\u001b[39m\u001b[38;5;124m\"\u001b[39m \u001b[38;5;129;01mand\u001b[39;00m \u001b[38;5;129;01mnot\u001b[39;00m \u001b[38;5;28mall\u001b[39m([target_count, lambda_f_reg, lambda_count]):\n\u001b[1;32m    206\u001b[0m     \u001b[38;5;28;01mraise\u001b[39;00m \u001b[38;5;167;01mValueError\u001b[39;00m(\n\u001b[1;32m    207\u001b[0m         \u001b[38;5;124m\"\u001b[39m\u001b[38;5;124mtarget_count, lambda_f_reg and lambda_count must be specified if mode is \u001b[39m\u001b[38;5;124m'\u001b[39m\u001b[38;5;124mconstrained\u001b[39m\u001b[38;5;124m'\u001b[39m\u001b[38;5;124m.\u001b[39m\u001b[38;5;124m\"\u001b[39m\n\u001b[1;32m    208\u001b[0m     )\n",
      "\u001b[0;31mValueError\u001b[0m: A cluster_label must be specified if mode is 'clusters'."
     ]
    }
   ],
   "source": [
    "ad_map = tg.map_cells_to_space(\n",
    "    adata_sc=reference,\n",
    "    adata_sp=slice_objects_reloaded['V10A20-016_D1'],\n",
    "#     device='cpu',\n",
    "    device='cuda:0',\n",
    "    mode='clusters'\n",
    ")"
   ]
  },
  {
   "cell_type": "code",
   "execution_count": null,
   "id": "34d6ca4e",
   "metadata": {},
   "outputs": [],
   "source": [
    "# try with all of them\n",
    "mapping_all = perform_tangram_mapping(slice_objects_reloaded, reference)"
   ]
  }
 ],
 "metadata": {
  "kernelspec": {
   "display_name": "Python 3 (ipykernel)",
   "language": "python",
   "name": "python3"
  },
  "language_info": {
   "codemirror_mode": {
    "name": "ipython",
    "version": 3
   },
   "file_extension": ".py",
   "mimetype": "text/x-python",
   "name": "python",
   "nbconvert_exporter": "python",
   "pygments_lexer": "ipython3",
   "version": "3.8.17"
  }
 },
 "nbformat": 4,
 "nbformat_minor": 5
}
