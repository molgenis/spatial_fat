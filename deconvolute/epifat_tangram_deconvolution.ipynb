{
 "cells": [
  {
   "cell_type": "code",
   "execution_count": null,
   "id": "d35adf05",
   "metadata": {},
   "outputs": [],
   "source": [
    "\"\"\"\n",
    "This script is used to perform deconvolution with tangram\n",
    "\n",
    "authors: Roy Oelen\n",
    "\"\"\""
   ]
  },
  {
   "cell_type": "code",
   "execution_count": 14,
   "id": "d0b027dd",
   "metadata": {},
   "outputs": [
    {
     "data": {
      "text/plain": [
       "'1.0.4'"
      ]
     },
     "execution_count": 14,
     "metadata": {},
     "output_type": "execute_result"
    }
   ],
   "source": [
    "# load the libraries\n",
    "import os, sys\n",
    "import numpy as np\n",
    "import pandas as pd\n",
    "import matplotlib.pyplot as plt\n",
    "import seaborn as sns\n",
    "import scanpy as sc\n",
    "import scipy\n",
    "import torch\n",
    "import tangram as tg\n",
    "import pickle\n",
    "import scipy.sparse as sparse\n",
    "import math\n",
    "\n",
    "tg.__version__"
   ]
  },
  {
   "cell_type": "code",
   "execution_count": 3,
   "id": "a57c298b",
   "metadata": {},
   "outputs": [],
   "source": [
    "# objects\n",
    "class MappingResult:\n",
    "    \"\"\"\n",
    "    Object to the results of Tangram mapping\n",
    "    \"\"\"\n",
    "    def __init__(self, spatial_object, single_cell_object, mapping):\n",
    "        \"\"\"constructor\n",
    "        \n",
    "        Parameters\n",
    "        ----------\n",
    "        spatial_object : AnnData\n",
    "            AnnData scanpy object of ST\n",
    "        single_cell_object : AnnData\n",
    "            AnnData scanpy object of SC\n",
    "        mapping : AnnData\n",
    "            AnnData resulting file\n",
    "        \n",
    "        \"\"\"\n",
    "        self.__spatial_object = spatial_object\n",
    "        self.__single_cell_object = single_cell_object\n",
    "        self.__mapping = mapping\n",
    "    \n",
    "    def get_spatial_object(self):\n",
    "        \"\"\"get ST object used for the mapping\n",
    "        \n",
    "        \n",
    "        Returns\n",
    "        -------\n",
    "        result\n",
    "           The spatial object used for the mapping \n",
    "        \"\"\"\n",
    "        return self.__spatial_object\n",
    "    \n",
    "    def get_single_cell_object(self):\n",
    "        \"\"\"get SC object used for the mapping\n",
    "        \n",
    "        \n",
    "        Returns\n",
    "        -------\n",
    "        result\n",
    "           The single cell object used for the mapping \n",
    "        \"\"\"\n",
    "        return self.__single_cell_object\n",
    "    \n",
    "    def get_mapping(self):\n",
    "        \"\"\"get the mapping result object\n",
    "        \n",
    "        \n",
    "        Returns\n",
    "        -------\n",
    "        result\n",
    "          The object created from doing the Tangram mapping\n",
    "        \"\"\"\n",
    "        return self.__mapping\n"
   ]
  },
  {
   "cell_type": "code",
   "execution_count": 4,
   "id": "6dcf9ec3",
   "metadata": {},
   "outputs": [],
   "source": [
    "def perform_tangram_mapping(slices_dict, reference, n_genes=500, mode='cells'):\n",
    "    \"\"\"perform tangram mapping on a dictionary\n",
    "        \n",
    "    Parameters\n",
    "    ----------\n",
    "    slices_dict : dict\n",
    "        the dictionary of ST objects to do the mapping for\n",
    "    reference : AnnData\n",
    "        the reference AnnData SC object to use for mapping\n",
    "    n_genes : int\n",
    "        the top number of most variable genes to use for the mapping\n",
    "    mode : str\n",
    "        the mode to use\n",
    "        \n",
    "    Returns\n",
    "    -------\n",
    "    result\n",
    "       a pandas dataframe instance of the expression data for the given cell type, or None if the cell type supplied doesn't exist\n",
    "    \"\"\"\n",
    "    # we will store the results in a dictionary\n",
    "    mapped_slices = {}\n",
    "    # check each slice\n",
    "    for slice_name,slice_object in slices_dict.items():\n",
    "        # calculate variable genes\n",
    "        variable_table = sc.pp.highly_variable_genes(slice_object, inplace = False, flavor='seurat_v3', n_top_genes=n_genes)\n",
    "        # select the markers\n",
    "        markers = list(variable_table[(variable_table[\"highly_variable\"] == True) & (variable_table[\"highly_variable_rank\"] <= n_genes)].index)\n",
    "        # get overlapping markers\n",
    "        tg.pp_adatas(reference, slice_object, genes=markers)\n",
    "        # do mapping\n",
    "        ad_map = tg.map_cells_to_space(\n",
    "            adata_sc=reference,\n",
    "            adata_sp=slice_object,\n",
    "#             device='cpu',\n",
    "            device='cuda:0',\n",
    "            mode=mode\n",
    "        )\n",
    "        tg.project_cell_annotations(ad_map, slice_object, annotation='cell_type')\n",
    "        # create an object to store the result\n",
    "        mapping_result = MappingResult(slice_object, reference, ad_map)\n",
    "        # put in a dictionary\n",
    "        mapped_slices[slice_name] = mapping_result\n"
   ]
  },
  {
   "cell_type": "code",
   "execution_count": 5,
   "id": "b33c2862",
   "metadata": {},
   "outputs": [],
   "source": [
    "# now try with the raw data instead\n",
    "slice_objects_raw = None\n",
    "with open(''.join(['/groups/umcg-franke-scrna/tmp02/projects/epifat/ongoing/seurat_preprocess_samples/objects/', 'spaceranger.20230823.raw.pickle']), 'rb') as f:\n",
    "    slice_objects_raw = pickle.load(f)"
   ]
  },
  {
   "cell_type": "code",
   "execution_count": 6,
   "id": "937f0c79",
   "metadata": {},
   "outputs": [],
   "source": [
    "# as well as the raw reference\n",
    "reference_raw = None\n",
    "with open('/groups/umcg-franke-scrna/tmp02/releases/blokland-2020/v1/epicardial_fat/ongoing/rtcd/references/hca/raw_expression.pickle', 'rb') as f:\n",
    "    reference_raw = pickle.load(f)\n",
    "# convert matrix format\n",
    "reference_raw.X = reference_raw.X.tocsr()"
   ]
  },
  {
   "cell_type": "code",
   "execution_count": null,
   "id": "b73f345c",
   "metadata": {},
   "outputs": [],
   "source": [
    "# now A1\n",
    "variable_table = sc.pp.highly_variable_genes(slice_objects_raw['V10A20-016_A1'], inplace = False, flavor='seurat_v3', n_top_genes=500)\n",
    "markers = list(variable_table[(variable_table[\"highly_variable\"] == True) & (variable_table[\"highly_variable_rank\"] <= 500)].index)\n",
    "tg.pp_adatas(reference_raw, slice_objects_raw['V10A20-016_A1'], genes=markers)\n",
    "ad_map = tg.map_cells_to_space(\n",
    "    adata_sc=reference_raw,\n",
    "    adata_sp=slice_objects_raw['V10A20-016_A1'],\n",
    "#     device='cpu',\n",
    "    device='cuda:0',\n",
    "    mode='cells'\n",
    ")\n",
    "# put in object\n",
    "mapping_result = MappingResult(slice_objects_raw['V10A20-016_A1'], reference_raw, ad_map)\n",
    "# put in a dictionary\n",
    "mapped_slices_a1 = {}\n",
    "mapped_slices_a1['V10A20-016_A1'] = mapping_result\n",
    "# write the result\n",
    "with open('/groups/umcg-franke-scrna/tmp02/projects/epifat/ongoing/deconvolution/tangram/results/raw_count_tangram_per_slices_A1.pickle', 'wb') as f:\n",
    "    # Pickle the 'data' dictionary using the highest protocol available.\n",
    "    pickle.dump(mapped_slices_a1, f, pickle.HIGHEST_PROTOCOL)"
   ]
  },
  {
   "cell_type": "code",
   "execution_count": null,
   "id": "74048712",
   "metadata": {},
   "outputs": [],
   "source": [
    "# now B1\n",
    "variable_table = sc.pp.highly_variable_genes(slice_objects_raw['V10A20-016_B1'], inplace = False, flavor='seurat_v3', n_top_genes=500)\n",
    "markers = list(variable_table[(variable_table[\"highly_variable\"] == True) & (variable_table[\"highly_variable_rank\"] <= 500)].index)\n",
    "tg.pp_adatas(reference_raw, slice_objects_raw['V10A20-016_B1'], genes=markers)\n",
    "ad_map = tg.map_cells_to_space(\n",
    "    adata_sc=reference_raw,\n",
    "    adata_sp=slice_objects_raw['V10A20-016_B1'],\n",
    "#     device='cpu',\n",
    "    device='cuda:0',\n",
    "    mode='cells'\n",
    ")\n",
    "# put in object\n",
    "mapping_result = MappingResult(slice_objects_raw['V10A20-016_B1'], reference_raw, ad_map)\n",
    "# put in a dictionary\n",
    "mapped_slices_b1 = {}\n",
    "mapped_slices_b1['V10A20-016_B1'] = mapping_result\n",
    "# write the result\n",
    "with open('/groups/umcg-franke-scrna/tmp02/projects/epifat/ongoing/deconvolution/tangram/results/raw_count_tangram_per_slices_B1.pickle', 'wb') as f:\n",
    "    # Pickle the 'data' dictionary using the highest protocol available.\n",
    "    pickle.dump(mapped_slices_b1, f, pickle.HIGHEST_PROTOCOL)"
   ]
  },
  {
   "cell_type": "code",
   "execution_count": 7,
   "id": "7eaf184b",
   "metadata": {},
   "outputs": [
    {
     "name": "stderr",
     "output_type": "stream",
     "text": [
      "INFO:root:spatial prediction dataframe is saved in `obsm` `tangram_ct_pred` of the spatial AnnData.\n"
     ]
    }
   ],
   "source": [
    "mapping_a1 = None\n",
    "with open('/groups/umcg-franke-scrna/tmp02/projects/epifat/ongoing/deconvolution/tangram/results/raw_count_tangram_per_slices_A1.pickle', 'rb') as f:\n",
    "    mapping_a1 = pickle.load(f)\n",
    "# grab the result\n",
    "mapping_result_a1 = mapping_a1['V10A20-016_A1']\n",
    "# do the projection\n",
    "tg.project_cell_annotations(mapping_result_a1.get_mapping(), mapping_result_a1.get_spatial_object(), annotation='cell_type')\n",
    "# get the assignments\n",
    "tangram_result_a1 = mapping_result_a1.get_spatial_object().obsm['tangram_ct_pred']\n",
    "# write result\n",
    "tangram_result_a1.to_csv('/groups/umcg-franke-scrna/tmp02/projects/epifat/ongoing/deconvolution/tangram/results/'.join(['', 'epifat_tangram_scores_a1.tsv']), sep = '\\t', header = True, index = True)"
   ]
  },
  {
   "cell_type": "code",
   "execution_count": 8,
   "id": "8ba8cb92",
   "metadata": {},
   "outputs": [
    {
     "name": "stderr",
     "output_type": "stream",
     "text": [
      "INFO:root:spatial prediction dataframe is saved in `obsm` `tangram_ct_pred` of the spatial AnnData.\n"
     ]
    }
   ],
   "source": [
    "mapping_b1 = None\n",
    "with open('/groups/umcg-franke-scrna/tmp02/projects/epifat/ongoing/deconvolution/tangram/results/raw_count_tangram_per_slices_B1.pickle', 'rb') as f:\n",
    "    mapping_b1 = pickle.load(f)\n",
    "# grab the result\n",
    "mapping_result_b1 = mapping_b1['V10A20-016_B1']\n",
    "# do the projection\n",
    "tg.project_cell_annotations(mapping_result_b1.get_mapping(), mapping_result_b1.get_spatial_object(), annotation='cell_type')\n",
    "# get the assignments\n",
    "tangram_result_b1 = mapping_result_b1.get_spatial_object().obsm['tangram_ct_pred']\n",
    "# write result\n",
    "tangram_result_b1.to_csv('/groups/umcg-franke-scrna/tmp02/projects/epifat/ongoing/deconvolution/tangram/results/'.join(['', 'epifat_tangram_scores_b1.tsv']), sep = '\\t', header = True, index = True)"
   ]
  },
  {
   "cell_type": "code",
   "execution_count": 7,
   "id": "af546cab",
   "metadata": {},
   "outputs": [
    {
     "name": "stderr",
     "output_type": "stream",
     "text": [
      "INFO:root:spatial prediction dataframe is saved in `obsm` `tangram_ct_pred` of the spatial AnnData.\n"
     ]
    }
   ],
   "source": [
    "mapping_c1 = None\n",
    "with open('/groups/umcg-franke-scrna/tmp02/projects/epifat/ongoing/deconvolution/tangram/results/raw_count_tangram_per_slices_C1.pickle', 'rb') as f:\n",
    "    mapping_c1 = pickle.load(f)\n",
    "# grab the result\n",
    "mapping_result_c1 = mapping_c1['V10A20-016_C1']\n",
    "# do the projection\n",
    "tg.project_cell_annotations(mapping_result_c1.get_mapping(), mapping_result_c1.get_spatial_object(), annotation='cell_type')\n",
    "# get the assignments\n",
    "tangram_result_c1 = mapping_result_c1.get_spatial_object().obsm['tangram_ct_pred']\n",
    "# write result\n",
    "tangram_result_c1.to_csv('/groups/umcg-franke-scrna/tmp02/projects/epifat/ongoing/deconvolution/tangram/results/'.join(['', 'epifat_tangram_scores_c1.tsv']), sep = '\\t', header = True, index = True)"
   ]
  },
  {
   "cell_type": "code",
   "execution_count": 17,
   "id": "0c4cec07",
   "metadata": {},
   "outputs": [],
   "source": [
    "# slice the object into two parts\n",
    "slice_objects_raw_d1_half1 = slice_objects_raw['V10A20-016_D1'][ : math.floor(slice_objects_raw['V10A20-016_D1'].n_obs / 2), ]\n",
    "slice_objects_raw_d1_half2 = slice_objects_raw['V10A20-016_D1'][math.floor(slice_objects_raw['V10A20-016_D1'].n_obs / 2) : , ]"
   ]
  },
  {
   "cell_type": "code",
   "execution_count": 21,
   "id": "4086d1ed",
   "metadata": {},
   "outputs": [
    {
     "name": "stderr",
     "output_type": "stream",
     "text": [
      "INFO:numexpr.utils:Note: NumExpr detected 32 cores but \"NUMEXPR_MAX_THREADS\" not set, so enforcing safe limit of 8.\n",
      "INFO:numexpr.utils:NumExpr defaulting to 8 threads.\n",
      "INFO:root:500 training genes are saved in `uns``training_genes` of both single cell and spatial Anndatas.\n",
      "INFO:root:12664 overlapped genes are saved in `uns``overlap_genes` of both single cell and spatial Anndatas.\n",
      "INFO:root:uniform based density prior is calculated and saved in `obs``uniform_density` of the spatial Anndata.\n",
      "INFO:root:rna count based density prior is calculated and saved in `obs``rna_count_based_density` of the spatial Anndata.\n",
      "INFO:root:Allocate tensors for mapping.\n",
      "INFO:root:Begin training with 500 genes and rna_count_based density_prior in cells mode...\n",
      "INFO:root:Printing scores every 100 epochs.\n"
     ]
    },
    {
     "name": "stdout",
     "output_type": "stream",
     "text": [
      "Score: 0.192, KL reg: 0.202\n",
      "Score: 0.754, KL reg: 0.007\n",
      "Score: 0.799, KL reg: 0.002\n",
      "Score: 0.813, KL reg: 0.001\n",
      "Score: 0.819, KL reg: 0.001\n",
      "Score: 0.821, KL reg: 0.001\n",
      "Score: 0.823, KL reg: 0.001\n",
      "Score: 0.823, KL reg: 0.001\n",
      "Score: 0.824, KL reg: 0.001\n",
      "Score: 0.825, KL reg: 0.001\n"
     ]
    },
    {
     "name": "stderr",
     "output_type": "stream",
     "text": [
      "INFO:root:Saving results..\n"
     ]
    }
   ],
   "source": [
    "# now D1, the first halve\n",
    "variable_table = sc.pp.highly_variable_genes(slice_objects_raw_d1_half1, inplace = False, flavor='seurat_v3', n_top_genes=500)\n",
    "markers = list(variable_table[(variable_table[\"highly_variable\"] == True) & (variable_table[\"highly_variable_rank\"] <= 500)].index)\n",
    "tg.pp_adatas(reference_raw, slice_objects_raw_d1_half1, genes=markers)\n",
    "ad_map = tg.map_cells_to_space(\n",
    "    adata_sc=reference_raw,\n",
    "    adata_sp=slice_objects_raw_d1_half1,\n",
    "#     device='cpu',\n",
    "    device='cuda:0',\n",
    "    mode='cells'\n",
    ")\n",
    "# put in object\n",
    "mapping_result = MappingResult(slice_objects_raw_d1_half1, reference_raw, ad_map)\n",
    "# put in a dictionary\n",
    "mapped_slices_d1_half1 = {}\n",
    "mapped_slices_d1_half1['V10A20-016_D1_half1'] = mapping_result\n",
    "# write the result\n",
    "with open('/groups/umcg-franke-scrna/tmp02/projects/epifat/ongoing/deconvolution/tangram/results/raw_count_tangram_per_slices_D1_half1.pickle', 'wb') as f:\n",
    "    # Pickle the 'data' dictionary using the highest protocol available.\n",
    "    pickle.dump(mapped_slices_d1_half1, f, pickle.HIGHEST_PROTOCOL)"
   ]
  },
  {
   "cell_type": "code",
   "execution_count": 22,
   "id": "a621a552",
   "metadata": {},
   "outputs": [
    {
     "name": "stderr",
     "output_type": "stream",
     "text": [
      "INFO:root:500 training genes are saved in `uns``training_genes` of both single cell and spatial Anndatas.\n",
      "INFO:root:12669 overlapped genes are saved in `uns``overlap_genes` of both single cell and spatial Anndatas.\n",
      "INFO:root:uniform based density prior is calculated and saved in `obs``uniform_density` of the spatial Anndata.\n",
      "INFO:root:rna count based density prior is calculated and saved in `obs``rna_count_based_density` of the spatial Anndata.\n",
      "INFO:root:Allocate tensors for mapping.\n",
      "INFO:root:Begin training with 500 genes and rna_count_based density_prior in cells mode...\n",
      "INFO:root:Printing scores every 100 epochs.\n"
     ]
    },
    {
     "name": "stdout",
     "output_type": "stream",
     "text": [
      "Score: 0.196, KL reg: 0.201\n",
      "Score: 0.741, KL reg: 0.006\n",
      "Score: 0.787, KL reg: 0.003\n",
      "Score: 0.801, KL reg: 0.001\n",
      "Score: 0.807, KL reg: 0.001\n",
      "Score: 0.810, KL reg: 0.001\n",
      "Score: 0.811, KL reg: 0.001\n",
      "Score: 0.812, KL reg: 0.001\n",
      "Score: 0.812, KL reg: 0.001\n",
      "Score: 0.813, KL reg: 0.001\n"
     ]
    },
    {
     "name": "stderr",
     "output_type": "stream",
     "text": [
      "INFO:root:Saving results..\n"
     ]
    }
   ],
   "source": [
    "# now D1, the first second\n",
    "variable_table = sc.pp.highly_variable_genes(slice_objects_raw_d1_half2, inplace = False, flavor='seurat_v3', n_top_genes=500)\n",
    "markers = list(variable_table[(variable_table[\"highly_variable\"] == True) & (variable_table[\"highly_variable_rank\"] <= 500)].index)\n",
    "tg.pp_adatas(reference_raw, slice_objects_raw_d1_half2, genes=markers)\n",
    "ad_map = tg.map_cells_to_space(\n",
    "    adata_sc=reference_raw,\n",
    "    adata_sp=slice_objects_raw_d1_half2,\n",
    "#     device='cpu',\n",
    "    device='cuda:0',\n",
    "    mode='cells'\n",
    ")\n",
    "# put in object\n",
    "mapping_result = MappingResult(slice_objects_raw_d1_half2, reference_raw, ad_map)\n",
    "# put in a dictionary\n",
    "mapped_slices_d1_half2 = {}\n",
    "mapped_slices_d1_half2['V10A20-016_D1_half2'] = mapping_result\n",
    "# write the result\n",
    "with open('/groups/umcg-franke-scrna/tmp02/projects/epifat/ongoing/deconvolution/tangram/results/raw_count_tangram_per_slices_D1_half2.pickle', 'wb') as f:\n",
    "    # Pickle the 'data' dictionary using the highest protocol available.\n",
    "    pickle.dump(mapped_slices_d1_half2, f, pickle.HIGHEST_PROTOCOL)"
   ]
  },
  {
   "cell_type": "code",
   "execution_count": 23,
   "id": "ae066e43",
   "metadata": {},
   "outputs": [
    {
     "name": "stderr",
     "output_type": "stream",
     "text": [
      "INFO:root:spatial prediction dataframe is saved in `obsm` `tangram_ct_pred` of the spatial AnnData.\n",
      "INFO:root:spatial prediction dataframe is saved in `obsm` `tangram_ct_pred` of the spatial AnnData.\n"
     ]
    }
   ],
   "source": [
    "# do the cell to label score for both halves\n",
    "tg.project_cell_annotations(mapped_slices_d1_half2['V10A20-016_D1_half2'].get_mapping(), mapped_slices_d1_half2['V10A20-016_D1_half2'].get_spatial_object(), annotation='cell_type')\n",
    "tangram_result_d1_half2 = mapped_slices_d1_half2['V10A20-016_D1_half2'].get_spatial_object().obsm['tangram_ct_pred']\n",
    "tg.project_cell_annotations(mapped_slices_d1_half1['V10A20-016_D1_half1'].get_mapping(), mapped_slices_d1_half1['V10A20-016_D1_half1'].get_spatial_object(), annotation='cell_type')\n",
    "tangram_result_d1_half1 = mapped_slices_d1_half1['V10A20-016_D1_half1'].get_spatial_object().obsm['tangram_ct_pred']\n",
    "# concat the halves\n",
    "tangram_result_d1 = pd.concat([tangram_result_d1_half1, tangram_result_d1_half2])\n",
    "# save the result\n",
    "tangram_result_d1.to_csv('/groups/umcg-franke-scrna/tmp02/projects/epifat/ongoing/deconvolution/tangram/results/'.join(['', 'epifat_tangram_scores_d1.tsv']), sep = '\\t', header = True, index = True)"
   ]
  },
  {
   "cell_type": "code",
   "execution_count": null,
   "id": "9d5c7bde",
   "metadata": {},
   "outputs": [],
   "source": []
  }
 ],
 "metadata": {
  "kernelspec": {
   "display_name": "Python 3 (ipykernel)",
   "language": "python",
   "name": "python3"
  },
  "language_info": {
   "codemirror_mode": {
    "name": "ipython",
    "version": 3
   },
   "file_extension": ".py",
   "mimetype": "text/x-python",
   "name": "python",
   "nbconvert_exporter": "python",
   "pygments_lexer": "ipython3",
   "version": "3.8.17"
  }
 },
 "nbformat": 4,
 "nbformat_minor": 5
}
