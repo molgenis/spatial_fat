{
 "cells": [
  {
   "cell_type": "code",
   "execution_count": null,
   "id": "f9886bc4-8b63-4d0a-b6d9-112aceb5e046",
   "metadata": {},
   "outputs": [],
   "source": [
    "\"\"\"\n",
    "This script is used to create the anndata objects per spaceranger slide, to subsequently deconvolute\n",
    "\n",
    "authors: Roy Oelen\n",
    "\"\"\""
   ]
  },
  {
   "cell_type": "code",
   "execution_count": 9,
   "id": "86bd3fc0-d892-41e9-b8d8-e22ebe2997bc",
   "metadata": {},
   "outputs": [],
   "source": [
    "# import the libraries\n",
    "import scanpy as sc\n",
    "import pickle\n"
   ]
  },
  {
   "cell_type": "code",
   "execution_count": 2,
   "id": "5ad841dc-707c-443c-b9ff-0ecf5a6d3e26",
   "metadata": {},
   "outputs": [],
   "source": [
    "def read_slices(slices_loc, slices, counts_file='filtered_feature_bc_matrix.h5'):\n",
    "    \"\"\"read ST slices, do QC, and put them in a list\n",
    "        \n",
    "        Parameters\n",
    "        ----------\n",
    "        slices_loc : str\n",
    "            the location of the folders containing the slices\n",
    "        slices : list\n",
    "            a list containing the slices (directory names)\n",
    "        counts_file : str\n",
    "            the name of the count expression matrix\n",
    "        \n",
    "        Returns\n",
    "        -------\n",
    "        result\n",
    "           a dictionary of AnnData objects\n",
    "        \"\"\"\n",
    "    # create a dictionary to store the slices\n",
    "    slices_dict = {}\n",
    "    # read each slice\n",
    "    for slice in slices:\n",
    "        # paste together the path\n",
    "        full_visium_path = ''.join([slices_loc, '/', slice, '/outs/'])\n",
    "        # read the file\n",
    "        adata = sc.read_visium(path = full_visium_path,\n",
    "                             count_file = counts_file)\n",
    "        # make gene names unique\n",
    "        adata.var_names_make_unique()\n",
    "        # do some standard preprocessing\n",
    "        adata.var[\"mt\"] = adata.var_names.str.startswith(\"MT-\")\n",
    "        sc.pp.calculate_qc_metrics(adata, qc_vars=[\"mt\"], inplace=True)\n",
    "\n",
    "        sc.pp.filter_cells(adata, min_counts=200)\n",
    "        sc.pp.filter_genes(adata, min_cells=3)\n",
    "        \n",
    "        # as well as the normalization\n",
    "        sc.pp.normalize_total(adata, inplace=True)\n",
    "        sc.pp.log1p(adata)\n",
    "        # and calculation of highly variable genes\n",
    "        sc.pp.highly_variable_genes(adata, flavor=\"seurat\", n_top_genes=2000)\n",
    "        # calculate principal components as well\n",
    "        sc.pp.pca(adata)\n",
    "        # do nearest neighbours\n",
    "        sc.pp.neighbors(adata)\n",
    "        # do 2d UMAP dim reduction\n",
    "        sc.tl.umap(adata)\n",
    "        # and Leiden clustering\n",
    "        sc.tl.leiden(adata, key_added=\"clusters\")\n",
    "        # add the result to the dictionary\n",
    "        slices_dict[slice] = adata\n",
    "    return slices_dict\n",
    "    "
   ]
  },
  {
   "cell_type": "code",
   "execution_count": 6,
   "id": "04156d17-cc83-4f20-8653-974fa53f50bf",
   "metadata": {},
   "outputs": [
    {
     "name": "stderr",
     "output_type": "stream",
     "text": [
      "/home/umcg-roelen/miniconda3/envs/scanpy_env/lib/python3.10/site-packages/anndata/_core/anndata.py:1840: UserWarning: Variable names are not unique. To make them unique, call `.var_names_make_unique`.\n",
      "  utils.warn_names_duplicates(\"var\")\n",
      "/home/umcg-roelen/miniconda3/envs/scanpy_env/lib/python3.10/site-packages/anndata/_core/anndata.py:1840: UserWarning: Variable names are not unique. To make them unique, call `.var_names_make_unique`.\n",
      "  utils.warn_names_duplicates(\"var\")\n",
      "/home/umcg-roelen/miniconda3/envs/scanpy_env/lib/python3.10/site-packages/anndata/_core/anndata.py:1840: UserWarning: Variable names are not unique. To make them unique, call `.var_names_make_unique`.\n",
      "  utils.warn_names_duplicates(\"var\")\n",
      "/home/umcg-roelen/miniconda3/envs/scanpy_env/lib/python3.10/site-packages/anndata/_core/anndata.py:1840: UserWarning: Variable names are not unique. To make them unique, call `.var_names_make_unique`.\n",
      "  utils.warn_names_duplicates(\"var\")\n",
      "/home/umcg-roelen/miniconda3/envs/scanpy_env/lib/python3.10/site-packages/anndata/_core/anndata.py:1840: UserWarning: Variable names are not unique. To make them unique, call `.var_names_make_unique`.\n",
      "  utils.warn_names_duplicates(\"var\")\n",
      "/home/umcg-roelen/miniconda3/envs/scanpy_env/lib/python3.10/site-packages/anndata/_core/anndata.py:1840: UserWarning: Variable names are not unique. To make them unique, call `.var_names_make_unique`.\n",
      "  utils.warn_names_duplicates(\"var\")\n",
      "/home/umcg-roelen/miniconda3/envs/scanpy_env/lib/python3.10/site-packages/anndata/_core/anndata.py:1840: UserWarning: Variable names are not unique. To make them unique, call `.var_names_make_unique`.\n",
      "  utils.warn_names_duplicates(\"var\")\n",
      "/home/umcg-roelen/miniconda3/envs/scanpy_env/lib/python3.10/site-packages/anndata/_core/anndata.py:1840: UserWarning: Variable names are not unique. To make them unique, call `.var_names_make_unique`.\n",
      "  utils.warn_names_duplicates(\"var\")\n"
     ]
    }
   ],
   "source": [
    "# read each slices\n",
    "slice_objects = read_slices('/groups/umcg-franke-scrna/tmp02/projects/epifat/processed/alignment/spaceranger_out/', ['V10A20-016_A1', 'V10A20-016_B1', 'V10A20-016_C1', 'V10A20-016_D1'])"
   ]
  },
  {
   "cell_type": "code",
   "execution_count": 7,
   "id": "70bd8854-c479-4bcc-aa4a-200dd344b856",
   "metadata": {},
   "outputs": [
    {
     "data": {
      "text/plain": [
       "{'V10A20-016_A1': AnnData object with n_obs × n_vars = 1113 × 11985\n",
       "     obs: 'in_tissue', 'array_row', 'array_col', 'n_genes_by_counts', 'log1p_n_genes_by_counts', 'total_counts', 'log1p_total_counts', 'pct_counts_in_top_50_genes', 'pct_counts_in_top_100_genes', 'pct_counts_in_top_200_genes', 'pct_counts_in_top_500_genes', 'total_counts_mt', 'log1p_total_counts_mt', 'pct_counts_mt', 'n_counts', 'clusters'\n",
       "     var: 'gene_ids', 'feature_types', 'genome', 'mt', 'n_cells_by_counts', 'mean_counts', 'log1p_mean_counts', 'pct_dropout_by_counts', 'total_counts', 'log1p_total_counts', 'n_cells', 'highly_variable', 'means', 'dispersions', 'dispersions_norm'\n",
       "     uns: 'spatial', 'log1p', 'hvg', 'pca', 'neighbors', 'umap', 'leiden'\n",
       "     obsm: 'spatial', 'X_pca', 'X_umap'\n",
       "     varm: 'PCs'\n",
       "     obsp: 'distances', 'connectivities',\n",
       " 'V10A20-016_B1': AnnData object with n_obs × n_vars = 1994 × 15864\n",
       "     obs: 'in_tissue', 'array_row', 'array_col', 'n_genes_by_counts', 'log1p_n_genes_by_counts', 'total_counts', 'log1p_total_counts', 'pct_counts_in_top_50_genes', 'pct_counts_in_top_100_genes', 'pct_counts_in_top_200_genes', 'pct_counts_in_top_500_genes', 'total_counts_mt', 'log1p_total_counts_mt', 'pct_counts_mt', 'n_counts', 'clusters'\n",
       "     var: 'gene_ids', 'feature_types', 'genome', 'mt', 'n_cells_by_counts', 'mean_counts', 'log1p_mean_counts', 'pct_dropout_by_counts', 'total_counts', 'log1p_total_counts', 'n_cells', 'highly_variable', 'means', 'dispersions', 'dispersions_norm'\n",
       "     uns: 'spatial', 'log1p', 'hvg', 'pca', 'neighbors', 'umap', 'leiden'\n",
       "     obsm: 'spatial', 'X_pca', 'X_umap'\n",
       "     varm: 'PCs'\n",
       "     obsp: 'distances', 'connectivities',\n",
       " 'V10A20-016_C1': AnnData object with n_obs × n_vars = 1800 × 13383\n",
       "     obs: 'in_tissue', 'array_row', 'array_col', 'n_genes_by_counts', 'log1p_n_genes_by_counts', 'total_counts', 'log1p_total_counts', 'pct_counts_in_top_50_genes', 'pct_counts_in_top_100_genes', 'pct_counts_in_top_200_genes', 'pct_counts_in_top_500_genes', 'total_counts_mt', 'log1p_total_counts_mt', 'pct_counts_mt', 'n_counts', 'clusters'\n",
       "     var: 'gene_ids', 'feature_types', 'genome', 'mt', 'n_cells_by_counts', 'mean_counts', 'log1p_mean_counts', 'pct_dropout_by_counts', 'total_counts', 'log1p_total_counts', 'n_cells', 'highly_variable', 'means', 'dispersions', 'dispersions_norm'\n",
       "     uns: 'spatial', 'log1p', 'hvg', 'pca', 'neighbors', 'umap', 'leiden'\n",
       "     obsm: 'spatial', 'X_pca', 'X_umap'\n",
       "     varm: 'PCs'\n",
       "     obsp: 'distances', 'connectivities',\n",
       " 'V10A20-016_D1': AnnData object with n_obs × n_vars = 2159 × 12749\n",
       "     obs: 'in_tissue', 'array_row', 'array_col', 'n_genes_by_counts', 'log1p_n_genes_by_counts', 'total_counts', 'log1p_total_counts', 'pct_counts_in_top_50_genes', 'pct_counts_in_top_100_genes', 'pct_counts_in_top_200_genes', 'pct_counts_in_top_500_genes', 'total_counts_mt', 'log1p_total_counts_mt', 'pct_counts_mt', 'n_counts', 'clusters'\n",
       "     var: 'gene_ids', 'feature_types', 'genome', 'mt', 'n_cells_by_counts', 'mean_counts', 'log1p_mean_counts', 'pct_dropout_by_counts', 'total_counts', 'log1p_total_counts', 'n_cells', 'highly_variable', 'means', 'dispersions', 'dispersions_norm'\n",
       "     uns: 'spatial', 'log1p', 'hvg', 'pca', 'neighbors', 'umap', 'leiden'\n",
       "     obsm: 'spatial', 'X_pca', 'X_umap'\n",
       "     varm: 'PCs'\n",
       "     obsp: 'distances', 'connectivities'}"
      ]
     },
     "execution_count": 7,
     "metadata": {},
     "output_type": "execute_result"
    }
   ],
   "source": [
    "# check that the objects are actually there\n",
    "slice_objects"
   ]
  },
  {
   "cell_type": "code",
   "execution_count": 12,
   "id": "9c8f9e08-28f1-41ce-a28b-a7a01989dd36",
   "metadata": {},
   "outputs": [],
   "source": [
    "# save the result\n",
    "with open(''.join(['/groups/umcg-franke-scrna/tmp02/projects/epifat/ongoing/seurat_preprocess_samples/objects/', 'spaceranger.20230823.pickle']), 'wb') as f:\n",
    "    # Pickle the 'data' dictionary using the highest protocol available.\n",
    "    pickle.dump(slice_objects, f, pickle.HIGHEST_PROTOCOL)"
   ]
  },
  {
   "cell_type": "code",
   "execution_count": 13,
   "id": "ab027386-7ed5-4b9f-9f75-40fd9abc5526",
   "metadata": {},
   "outputs": [
    {
     "data": {
      "text/plain": [
       "{'V10A20-016_A1': AnnData object with n_obs × n_vars = 1113 × 11985\n",
       "     obs: 'in_tissue', 'array_row', 'array_col', 'n_genes_by_counts', 'log1p_n_genes_by_counts', 'total_counts', 'log1p_total_counts', 'pct_counts_in_top_50_genes', 'pct_counts_in_top_100_genes', 'pct_counts_in_top_200_genes', 'pct_counts_in_top_500_genes', 'total_counts_mt', 'log1p_total_counts_mt', 'pct_counts_mt', 'n_counts', 'clusters'\n",
       "     var: 'gene_ids', 'feature_types', 'genome', 'mt', 'n_cells_by_counts', 'mean_counts', 'log1p_mean_counts', 'pct_dropout_by_counts', 'total_counts', 'log1p_total_counts', 'n_cells', 'highly_variable', 'means', 'dispersions', 'dispersions_norm'\n",
       "     uns: 'spatial', 'log1p', 'hvg', 'pca', 'neighbors', 'umap', 'leiden'\n",
       "     obsm: 'spatial', 'X_pca', 'X_umap'\n",
       "     varm: 'PCs'\n",
       "     obsp: 'distances', 'connectivities',\n",
       " 'V10A20-016_B1': AnnData object with n_obs × n_vars = 1994 × 15864\n",
       "     obs: 'in_tissue', 'array_row', 'array_col', 'n_genes_by_counts', 'log1p_n_genes_by_counts', 'total_counts', 'log1p_total_counts', 'pct_counts_in_top_50_genes', 'pct_counts_in_top_100_genes', 'pct_counts_in_top_200_genes', 'pct_counts_in_top_500_genes', 'total_counts_mt', 'log1p_total_counts_mt', 'pct_counts_mt', 'n_counts', 'clusters'\n",
       "     var: 'gene_ids', 'feature_types', 'genome', 'mt', 'n_cells_by_counts', 'mean_counts', 'log1p_mean_counts', 'pct_dropout_by_counts', 'total_counts', 'log1p_total_counts', 'n_cells', 'highly_variable', 'means', 'dispersions', 'dispersions_norm'\n",
       "     uns: 'spatial', 'log1p', 'hvg', 'pca', 'neighbors', 'umap', 'leiden'\n",
       "     obsm: 'spatial', 'X_pca', 'X_umap'\n",
       "     varm: 'PCs'\n",
       "     obsp: 'distances', 'connectivities',\n",
       " 'V10A20-016_C1': AnnData object with n_obs × n_vars = 1800 × 13383\n",
       "     obs: 'in_tissue', 'array_row', 'array_col', 'n_genes_by_counts', 'log1p_n_genes_by_counts', 'total_counts', 'log1p_total_counts', 'pct_counts_in_top_50_genes', 'pct_counts_in_top_100_genes', 'pct_counts_in_top_200_genes', 'pct_counts_in_top_500_genes', 'total_counts_mt', 'log1p_total_counts_mt', 'pct_counts_mt', 'n_counts', 'clusters'\n",
       "     var: 'gene_ids', 'feature_types', 'genome', 'mt', 'n_cells_by_counts', 'mean_counts', 'log1p_mean_counts', 'pct_dropout_by_counts', 'total_counts', 'log1p_total_counts', 'n_cells', 'highly_variable', 'means', 'dispersions', 'dispersions_norm'\n",
       "     uns: 'spatial', 'log1p', 'hvg', 'pca', 'neighbors', 'umap', 'leiden'\n",
       "     obsm: 'spatial', 'X_pca', 'X_umap'\n",
       "     varm: 'PCs'\n",
       "     obsp: 'distances', 'connectivities',\n",
       " 'V10A20-016_D1': AnnData object with n_obs × n_vars = 2159 × 12749\n",
       "     obs: 'in_tissue', 'array_row', 'array_col', 'n_genes_by_counts', 'log1p_n_genes_by_counts', 'total_counts', 'log1p_total_counts', 'pct_counts_in_top_50_genes', 'pct_counts_in_top_100_genes', 'pct_counts_in_top_200_genes', 'pct_counts_in_top_500_genes', 'total_counts_mt', 'log1p_total_counts_mt', 'pct_counts_mt', 'n_counts', 'clusters'\n",
       "     var: 'gene_ids', 'feature_types', 'genome', 'mt', 'n_cells_by_counts', 'mean_counts', 'log1p_mean_counts', 'pct_dropout_by_counts', 'total_counts', 'log1p_total_counts', 'n_cells', 'highly_variable', 'means', 'dispersions', 'dispersions_norm'\n",
       "     uns: 'spatial', 'log1p', 'hvg', 'pca', 'neighbors', 'umap', 'leiden'\n",
       "     obsm: 'spatial', 'X_pca', 'X_umap'\n",
       "     varm: 'PCs'\n",
       "     obsp: 'distances', 'connectivities'}"
      ]
     },
     "execution_count": 13,
     "metadata": {},
     "output_type": "execute_result"
    }
   ],
   "source": [
    "# load the result to see if it is was exported correctly\n",
    "with open(''.join(['/groups/umcg-franke-scrna/tmp02/projects/epifat/ongoing/seurat_preprocess_samples/objects/', 'spaceranger.20230823.pickle']), 'rb') as f:\n",
    "    slice_objects_reloaded = pickle.load(f)\n",
    "slice_objects_reloaded"
   ]
  },
  {
   "cell_type": "code",
   "execution_count": null,
   "id": "0a33b4c4-2499-4aca-b4aa-af125eb7f08c",
   "metadata": {},
   "outputs": [],
   "source": []
  }
 ],
 "metadata": {
  "kernelspec": {
   "display_name": "Python 3 (ipykernel)",
   "language": "python",
   "name": "python3"
  },
  "language_info": {
   "codemirror_mode": {
    "name": "ipython",
    "version": 3
   },
   "file_extension": ".py",
   "mimetype": "text/x-python",
   "name": "python",
   "nbconvert_exporter": "python",
   "pygments_lexer": "ipython3",
   "version": "3.10.12"
  }
 },
 "nbformat": 4,
 "nbformat_minor": 5
}
