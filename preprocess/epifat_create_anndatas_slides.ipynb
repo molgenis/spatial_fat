{
 "cells": [
  {
   "cell_type": "code",
   "execution_count": null,
   "id": "5b24090d",
   "metadata": {},
   "outputs": [],
   "source": [
    "\"\"\"\n",
    "This script is used to create the anndata objects per spaceranger slide, to subsequently deconvolute\n",
    "\n",
    "authors: Roy Oelen\n",
    "\"\"\""
   ]
  },
  {
   "cell_type": "code",
   "execution_count": null,
   "id": "7fc14b95",
   "metadata": {},
   "outputs": [],
   "source": [
    "# import the libraries\n",
    "import scanpy as sc\n",
    "import pickle\n"
   ]
  },
  {
   "cell_type": "code",
   "execution_count": null,
   "id": "b8588eaa",
   "metadata": {},
   "outputs": [],
   "source": [
    "def read_slices(slices_loc, slices, counts_file='filtered_feature_bc_matrix.h5', do_norm=True, do_dimruc=True):\n",
    "    \"\"\"read ST slices, do QC, and put them in a list\n",
    "        \n",
    "        Parameters\n",
    "        ----------\n",
    "        slices_loc : str\n",
    "            the location of the folders containing the slices\n",
    "        slices : list\n",
    "            a list containing the slices (directory names)\n",
    "        counts_file : str\n",
    "            the name of the count expression matrix\n",
    "        do_norm : bool\n",
    "            run normalization\n",
    "        do_dimruc : bool\n",
    "            run dimensional reduction\n",
    "        \n",
    "        Returns\n",
    "        -------\n",
    "        result\n",
    "           a dictionary of AnnData objects\n",
    "        \"\"\"\n",
    "    # create a dictionary to store the slices\n",
    "    slices_dict = {}\n",
    "    # read each slice\n",
    "    for slice in slices:\n",
    "        # paste together the path\n",
    "        full_visium_path = ''.join([slices_loc, '/', slice, '/outs/'])\n",
    "        # read the file\n",
    "        adata = sc.read_visium(path = full_visium_path,\n",
    "                             count_file = counts_file)\n",
    "        # make gene names unique\n",
    "        adata.var_names_make_unique()\n",
    "        # do some standard preprocessing\n",
    "        adata.var[\"mt\"] = adata.var_names.str.startswith(\"MT-\")\n",
    "        sc.pp.calculate_qc_metrics(adata, qc_vars=[\"mt\"], inplace=True)\n",
    "\n",
    "        sc.pp.filter_cells(adata, min_counts=200)\n",
    "        sc.pp.filter_genes(adata, min_cells=3)\n",
    "        \n",
    "        # normalize if requested\n",
    "        if do_norm:\n",
    "            # as well as the normalization\n",
    "            sc.pp.normalize_total(adata, inplace=True)\n",
    "            sc.pp.log1p(adata)\n",
    "            # and calculation of highly variable genes\n",
    "            sc.pp.highly_variable_genes(adata, flavor=\"seurat\", n_top_genes=2000)\n",
    "            \n",
    "            # and dimensional reduction if requested\n",
    "            if do_dimruc:\n",
    "                # calculate principal components as well\n",
    "                sc.pp.pca(adata)\n",
    "                # do nearest neighbours\n",
    "                sc.pp.neighbors(adata)\n",
    "                # do 2d UMAP dim reduction\n",
    "                sc.tl.umap(adata)\n",
    "                # and Leiden clustering\n",
    "                sc.tl.leiden(adata, key_added=\"clusters\")\n",
    "        \n",
    "        # add the result to the dictionary\n",
    "        slices_dict[slice] = adata\n",
    "    return slices_dict\n",
    "    "
   ]
  },
  {
   "cell_type": "code",
   "execution_count": null,
   "id": "f4619413",
   "metadata": {},
   "outputs": [],
   "source": [
    "# read each slices\n",
    "slice_objects = read_slices('/groups/umcg-franke-scrna/tmp02/projects/epifat/processed/alignment/spaceranger_out/', ['V10A20-016_A1', 'V10A20-016_B1', 'V10A20-016_C1', 'V10A20-016_D1'])"
   ]
  },
  {
   "cell_type": "code",
   "execution_count": null,
   "id": "918712af",
   "metadata": {},
   "outputs": [],
   "source": [
    "# check that the objects are actually there\n",
    "slice_objects"
   ]
  },
  {
   "cell_type": "code",
   "execution_count": null,
   "id": "142e14dc",
   "metadata": {},
   "outputs": [],
   "source": [
    "# save the result\n",
    "with open(''.join(['/groups/umcg-franke-scrna/tmp02/projects/epifat/ongoing/seurat_preprocess_samples/objects/', 'spaceranger.20230823.pickle']), 'wb') as f:\n",
    "    # Pickle the 'data' dictionary using the highest protocol available.\n",
    "    pickle.dump(slice_objects, f, pickle.HIGHEST_PROTOCOL)"
   ]
  },
  {
   "cell_type": "code",
   "execution_count": null,
   "id": "4150e7c8",
   "metadata": {},
   "outputs": [],
   "source": [
    "# load the result to see if it is was exported correctly\n",
    "with open(''.join(['/groups/umcg-franke-scrna/tmp02/projects/epifat/ongoing/seurat_preprocess_samples/objects/', 'spaceranger.20230823.pickle']), 'rb') as f:\n",
    "    slice_objects_reloaded = pickle.load(f)\n",
    "slice_objects_reloaded"
   ]
  },
  {
   "cell_type": "code",
   "execution_count": 3,
   "id": "1fc7081f",
   "metadata": {},
   "outputs": [
    {
     "name": "stderr",
     "output_type": "stream",
     "text": [
      "/home/umcg-roelen/miniconda3/envs/scanpy_env/lib/python3.10/site-packages/anndata/_core/anndata.py:1840: UserWarning: Variable names are not unique. To make them unique, call `.var_names_make_unique`.\n",
      "  utils.warn_names_duplicates(\"var\")\n",
      "/home/umcg-roelen/miniconda3/envs/scanpy_env/lib/python3.10/site-packages/anndata/_core/anndata.py:1840: UserWarning: Variable names are not unique. To make them unique, call `.var_names_make_unique`.\n",
      "  utils.warn_names_duplicates(\"var\")\n",
      "/home/umcg-roelen/miniconda3/envs/scanpy_env/lib/python3.10/site-packages/anndata/_core/anndata.py:1840: UserWarning: Variable names are not unique. To make them unique, call `.var_names_make_unique`.\n",
      "  utils.warn_names_duplicates(\"var\")\n",
      "/home/umcg-roelen/miniconda3/envs/scanpy_env/lib/python3.10/site-packages/anndata/_core/anndata.py:1840: UserWarning: Variable names are not unique. To make them unique, call `.var_names_make_unique`.\n",
      "  utils.warn_names_duplicates(\"var\")\n",
      "/home/umcg-roelen/miniconda3/envs/scanpy_env/lib/python3.10/site-packages/anndata/_core/anndata.py:1840: UserWarning: Variable names are not unique. To make them unique, call `.var_names_make_unique`.\n",
      "  utils.warn_names_duplicates(\"var\")\n",
      "/home/umcg-roelen/miniconda3/envs/scanpy_env/lib/python3.10/site-packages/anndata/_core/anndata.py:1840: UserWarning: Variable names are not unique. To make them unique, call `.var_names_make_unique`.\n",
      "  utils.warn_names_duplicates(\"var\")\n",
      "/home/umcg-roelen/miniconda3/envs/scanpy_env/lib/python3.10/site-packages/anndata/_core/anndata.py:1840: UserWarning: Variable names are not unique. To make them unique, call `.var_names_make_unique`.\n",
      "  utils.warn_names_duplicates(\"var\")\n",
      "/home/umcg-roelen/miniconda3/envs/scanpy_env/lib/python3.10/site-packages/anndata/_core/anndata.py:1840: UserWarning: Variable names are not unique. To make them unique, call `.var_names_make_unique`.\n",
      "  utils.warn_names_duplicates(\"var\")\n"
     ]
    }
   ],
   "source": [
    "# now without any normalization\n",
    "slice_objects = read_slices('/groups/umcg-franke-scrna/tmp02/projects/epifat/processed/alignment/spaceranger_out/', ['V10A20-016_A1', 'V10A20-016_B1', 'V10A20-016_C1', 'V10A20-016_D1'], do_norm=False, do_dimruc=False)"
   ]
  },
  {
   "cell_type": "code",
   "execution_count": 4,
   "id": "ec30b223",
   "metadata": {},
   "outputs": [],
   "source": [
    "# save the result\n",
    "with open(''.join(['/groups/umcg-franke-scrna/tmp02/projects/epifat/ongoing/seurat_preprocess_samples/objects/', 'spaceranger.20230823.raw.pickle']), 'wb') as f:\n",
    "    # Pickle the 'data' dictionary using the highest protocol available.\n",
    "    pickle.dump(slice_objects, f, pickle.HIGHEST_PROTOCOL)"
   ]
  }
 ],
 "metadata": {
  "kernelspec": {
   "display_name": "Python 3 (ipykernel)",
   "language": "python",
   "name": "python3"
  },
  "language_info": {
   "codemirror_mode": {
    "name": "ipython",
    "version": 3
   },
   "file_extension": ".py",
   "mimetype": "text/x-python",
   "name": "python",
   "nbconvert_exporter": "python",
   "pygments_lexer": "ipython3",
   "version": "3.8.17"
  }
 },
 "nbformat": 4,
 "nbformat_minor": 5
}
